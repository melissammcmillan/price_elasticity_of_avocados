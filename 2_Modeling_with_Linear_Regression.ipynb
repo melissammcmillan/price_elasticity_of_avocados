{
 "cells": [
  {
   "cell_type": "markdown",
   "metadata": {},
   "source": [
    "### Notebook 2: Initial Exploration of Avocado Data"
   ]
  },
  {
   "cell_type": "markdown",
   "metadata": {},
   "source": [
    "This notebook contains the first series of models performed on this Price Elasticity Project: Linear Regression Modelling. The goal of this modeling is to determine any linear relationships between features and the Price Elasticity of Demand for Avocados."
   ]
  },
  {
   "cell_type": "markdown",
   "metadata": {},
   "source": [
    "Import the needed libraries"
   ]
  },
  {
   "cell_type": "code",
   "execution_count": 1,
   "metadata": {},
   "outputs": [],
   "source": [
    "import pandas as pd\n",
    "import numpy as np\n",
    "import matplotlib.pyplot as plt\n",
    "import seaborn as sns\n",
    "from sklearn.linear_model import LinearRegression"
   ]
  },
  {
   "cell_type": "markdown",
   "metadata": {},
   "source": [
    "Read in the dataset we want to use."
   ]
  },
  {
   "cell_type": "code",
   "execution_count": 19,
   "metadata": {},
   "outputs": [
    {
     "data": {
      "text/html": [
       "<div>\n",
       "<style scoped>\n",
       "    .dataframe tbody tr th:only-of-type {\n",
       "        vertical-align: middle;\n",
       "    }\n",
       "\n",
       "    .dataframe tbody tr th {\n",
       "        vertical-align: top;\n",
       "    }\n",
       "\n",
       "    .dataframe thead th {\n",
       "        text-align: right;\n",
       "    }\n",
       "</style>\n",
       "<table border=\"1\" class=\"dataframe\">\n",
       "  <thead>\n",
       "    <tr style=\"text-align: right;\">\n",
       "      <th></th>\n",
       "      <th>date</th>\n",
       "      <th>averageprice</th>\n",
       "      <th>total_volume</th>\n",
       "      <th>4046</th>\n",
       "      <th>4225</th>\n",
       "      <th>4770</th>\n",
       "      <th>total_bags</th>\n",
       "      <th>small_bags</th>\n",
       "      <th>large bags</th>\n",
       "      <th>xl_bags</th>\n",
       "      <th>type</th>\n",
       "      <th>year</th>\n",
       "      <th>region</th>\n",
       "      <th>pct_chg_quantity</th>\n",
       "      <th>pct_chg_price</th>\n",
       "      <th>price_eod</th>\n",
       "      <th>total_volume_million</th>\n",
       "    </tr>\n",
       "  </thead>\n",
       "  <tbody>\n",
       "    <tr>\n",
       "      <th>0</th>\n",
       "      <td>2015-01-04</td>\n",
       "      <td>0.95</td>\n",
       "      <td>31324277.73</td>\n",
       "      <td>12357161.34</td>\n",
       "      <td>13624083.05</td>\n",
       "      <td>844093.32</td>\n",
       "      <td>4498940.02</td>\n",
       "      <td>3585321.58</td>\n",
       "      <td>894945.63</td>\n",
       "      <td>18672.81</td>\n",
       "      <td>conventional</td>\n",
       "      <td>2015</td>\n",
       "      <td>TotalUS</td>\n",
       "      <td>NaN</td>\n",
       "      <td>NaN</td>\n",
       "      <td>NaN</td>\n",
       "      <td>31.324278</td>\n",
       "    </tr>\n",
       "    <tr>\n",
       "      <th>1</th>\n",
       "      <td>2015-01-11</td>\n",
       "      <td>1.01</td>\n",
       "      <td>29063542.75</td>\n",
       "      <td>11544810.53</td>\n",
       "      <td>12134773.38</td>\n",
       "      <td>866574.66</td>\n",
       "      <td>4517384.18</td>\n",
       "      <td>3783261.16</td>\n",
       "      <td>718333.87</td>\n",
       "      <td>15789.15</td>\n",
       "      <td>conventional</td>\n",
       "      <td>2015</td>\n",
       "      <td>TotalUS</td>\n",
       "      <td>-0.072</td>\n",
       "      <td>0.063</td>\n",
       "      <td>-1.142857</td>\n",
       "      <td>29.063543</td>\n",
       "    </tr>\n",
       "    <tr>\n",
       "      <th>2</th>\n",
       "      <td>2015-01-18</td>\n",
       "      <td>1.03</td>\n",
       "      <td>29043458.85</td>\n",
       "      <td>11858139.34</td>\n",
       "      <td>11701947.80</td>\n",
       "      <td>831301.90</td>\n",
       "      <td>4652069.81</td>\n",
       "      <td>3873041.26</td>\n",
       "      <td>771093.20</td>\n",
       "      <td>7935.35</td>\n",
       "      <td>conventional</td>\n",
       "      <td>2015</td>\n",
       "      <td>TotalUS</td>\n",
       "      <td>-0.001</td>\n",
       "      <td>0.020</td>\n",
       "      <td>-0.050000</td>\n",
       "      <td>29.043459</td>\n",
       "    </tr>\n",
       "  </tbody>\n",
       "</table>\n",
       "</div>"
      ],
      "text/plain": [
       "         date  averageprice  total_volume         4046         4225  \\\n",
       "0  2015-01-04          0.95   31324277.73  12357161.34  13624083.05   \n",
       "1  2015-01-11          1.01   29063542.75  11544810.53  12134773.38   \n",
       "2  2015-01-18          1.03   29043458.85  11858139.34  11701947.80   \n",
       "\n",
       "        4770  total_bags  small_bags  large bags   xl_bags          type  \\\n",
       "0  844093.32  4498940.02  3585321.58   894945.63  18672.81  conventional   \n",
       "1  866574.66  4517384.18  3783261.16   718333.87  15789.15  conventional   \n",
       "2  831301.90  4652069.81  3873041.26   771093.20   7935.35  conventional   \n",
       "\n",
       "   year   region  pct_chg_quantity  pct_chg_price  price_eod  \\\n",
       "0  2015  TotalUS               NaN            NaN        NaN   \n",
       "1  2015  TotalUS            -0.072          0.063  -1.142857   \n",
       "2  2015  TotalUS            -0.001          0.020  -0.050000   \n",
       "\n",
       "   total_volume_million  \n",
       "0             31.324278  \n",
       "1             29.063543  \n",
       "2             29.043459  "
      ]
     },
     "execution_count": 19,
     "metadata": {},
     "output_type": "execute_result"
    }
   ],
   "source": [
    "totalus = pd.read_csv('data/totalus_eod.csv')\n",
    "totalus.head(3)"
   ]
  },
  {
   "cell_type": "markdown",
   "metadata": {},
   "source": [
    "Since we are going to use a Linear Regression model, we are looking for any linear relationships between features and price elasticity. I'm going to do some initial plotting to get a feel for any of those relationships, then get into the modelling."
   ]
  },
  {
   "cell_type": "code",
   "execution_count": 20,
   "metadata": {},
   "outputs": [
    {
     "data": {
      "text/html": [
       "<div>\n",
       "<style scoped>\n",
       "    .dataframe tbody tr th:only-of-type {\n",
       "        vertical-align: middle;\n",
       "    }\n",
       "\n",
       "    .dataframe tbody tr th {\n",
       "        vertical-align: top;\n",
       "    }\n",
       "\n",
       "    .dataframe thead th {\n",
       "        text-align: right;\n",
       "    }\n",
       "</style>\n",
       "<table border=\"1\" class=\"dataframe\">\n",
       "  <thead>\n",
       "    <tr style=\"text-align: right;\">\n",
       "      <th></th>\n",
       "      <th>price_eod</th>\n",
       "    </tr>\n",
       "  </thead>\n",
       "  <tbody>\n",
       "    <tr>\n",
       "      <th>count</th>\n",
       "      <td>157.000000</td>\n",
       "    </tr>\n",
       "    <tr>\n",
       "      <th>mean</th>\n",
       "      <td>-1.432222</td>\n",
       "    </tr>\n",
       "    <tr>\n",
       "      <th>std</th>\n",
       "      <td>2.493482</td>\n",
       "    </tr>\n",
       "    <tr>\n",
       "      <th>min</th>\n",
       "      <td>-9.000000</td>\n",
       "    </tr>\n",
       "    <tr>\n",
       "      <th>25%</th>\n",
       "      <td>-2.686957</td>\n",
       "    </tr>\n",
       "    <tr>\n",
       "      <th>50%</th>\n",
       "      <td>-1.523810</td>\n",
       "    </tr>\n",
       "    <tr>\n",
       "      <th>75%</th>\n",
       "      <td>-0.540984</td>\n",
       "    </tr>\n",
       "    <tr>\n",
       "      <th>max</th>\n",
       "      <td>10.428571</td>\n",
       "    </tr>\n",
       "  </tbody>\n",
       "</table>\n",
       "</div>"
      ],
      "text/plain": [
       "        price_eod\n",
       "count  157.000000\n",
       "mean    -1.432222\n",
       "std      2.493482\n",
       "min     -9.000000\n",
       "25%     -2.686957\n",
       "50%     -1.523810\n",
       "75%     -0.540984\n",
       "max     10.428571"
      ]
     },
     "execution_count": 20,
     "metadata": {},
     "output_type": "execute_result"
    }
   ],
   "source": [
    "peod = totalus[['price_eod']]\n",
    "peod.describe()"
   ]
  },
  {
   "cell_type": "code",
   "execution_count": null,
   "metadata": {},
   "outputs": [],
   "source": []
  },
  {
   "cell_type": "code",
   "execution_count": null,
   "metadata": {},
   "outputs": [],
   "source": []
  },
  {
   "cell_type": "code",
   "execution_count": null,
   "metadata": {},
   "outputs": [],
   "source": []
  },
  {
   "cell_type": "code",
   "execution_count": null,
   "metadata": {},
   "outputs": [],
   "source": []
  }
 ],
 "metadata": {
  "kernelspec": {
   "display_name": "Python 3",
   "language": "python",
   "name": "python3"
  },
  "language_info": {
   "codemirror_mode": {
    "name": "ipython",
    "version": 3
   },
   "file_extension": ".py",
   "mimetype": "text/x-python",
   "name": "python",
   "nbconvert_exporter": "python",
   "pygments_lexer": "ipython3",
   "version": "3.8.3"
  }
 },
 "nbformat": 4,
 "nbformat_minor": 4
}
