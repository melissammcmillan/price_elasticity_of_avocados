{
 "cells": [
  {
   "cell_type": "markdown",
   "metadata": {},
   "source": [
    "### Notebook 2: Initial Exploration of Avocado Data"
   ]
  },
  {
   "cell_type": "markdown",
   "metadata": {},
   "source": [
    "This notebook contains the first series of models performed on this Price Elasticity Project: Linear Regression Modelling. The goal of this modeling is to determine any linear relationships between features and the Price Elasticity of Demand for Avocados."
   ]
  },
  {
   "cell_type": "markdown",
   "metadata": {},
   "source": [
    "Import the needed libraries"
   ]
  },
  {
   "cell_type": "code",
   "execution_count": 64,
   "metadata": {},
   "outputs": [],
   "source": [
    "import pandas as pd\n",
    "import numpy as np\n",
    "import matplotlib.pyplot as plt\n",
    "import seaborn as sns\n",
    "from sklearn.linear_model import LinearRegression\n",
    "from sklearn.metrics import mean_squared_error"
   ]
  },
  {
   "cell_type": "markdown",
   "metadata": {},
   "source": [
    "Read in the dataset we want to use."
   ]
  },
  {
   "cell_type": "code",
   "execution_count": 49,
   "metadata": {},
   "outputs": [
    {
     "data": {
      "text/html": [
       "<div>\n",
       "<style scoped>\n",
       "    .dataframe tbody tr th:only-of-type {\n",
       "        vertical-align: middle;\n",
       "    }\n",
       "\n",
       "    .dataframe tbody tr th {\n",
       "        vertical-align: top;\n",
       "    }\n",
       "\n",
       "    .dataframe thead th {\n",
       "        text-align: right;\n",
       "    }\n",
       "</style>\n",
       "<table border=\"1\" class=\"dataframe\">\n",
       "  <thead>\n",
       "    <tr style=\"text-align: right;\">\n",
       "      <th></th>\n",
       "      <th>date</th>\n",
       "      <th>averageprice</th>\n",
       "      <th>total_volume</th>\n",
       "      <th>4046</th>\n",
       "      <th>4225</th>\n",
       "      <th>4770</th>\n",
       "      <th>total_bags</th>\n",
       "      <th>small_bags</th>\n",
       "      <th>large bags</th>\n",
       "      <th>xl_bags</th>\n",
       "      <th>type</th>\n",
       "      <th>year</th>\n",
       "      <th>region</th>\n",
       "      <th>pct_chg_quantity</th>\n",
       "      <th>pct_chg_price</th>\n",
       "      <th>price_eod</th>\n",
       "      <th>total_volume_million</th>\n",
       "    </tr>\n",
       "  </thead>\n",
       "  <tbody>\n",
       "    <tr>\n",
       "      <th>0</th>\n",
       "      <td>2015-01-04</td>\n",
       "      <td>0.95</td>\n",
       "      <td>31324277.73</td>\n",
       "      <td>12357161.34</td>\n",
       "      <td>13624083.05</td>\n",
       "      <td>844093.32</td>\n",
       "      <td>4498940.02</td>\n",
       "      <td>3585321.58</td>\n",
       "      <td>894945.63</td>\n",
       "      <td>18672.81</td>\n",
       "      <td>conventional</td>\n",
       "      <td>2015</td>\n",
       "      <td>TotalUS</td>\n",
       "      <td>NaN</td>\n",
       "      <td>NaN</td>\n",
       "      <td>NaN</td>\n",
       "      <td>31.324278</td>\n",
       "    </tr>\n",
       "    <tr>\n",
       "      <th>1</th>\n",
       "      <td>2015-01-11</td>\n",
       "      <td>1.01</td>\n",
       "      <td>29063542.75</td>\n",
       "      <td>11544810.53</td>\n",
       "      <td>12134773.38</td>\n",
       "      <td>866574.66</td>\n",
       "      <td>4517384.18</td>\n",
       "      <td>3783261.16</td>\n",
       "      <td>718333.87</td>\n",
       "      <td>15789.15</td>\n",
       "      <td>conventional</td>\n",
       "      <td>2015</td>\n",
       "      <td>TotalUS</td>\n",
       "      <td>-0.072</td>\n",
       "      <td>0.063</td>\n",
       "      <td>-1.142857</td>\n",
       "      <td>29.063543</td>\n",
       "    </tr>\n",
       "    <tr>\n",
       "      <th>2</th>\n",
       "      <td>2015-01-18</td>\n",
       "      <td>1.03</td>\n",
       "      <td>29043458.85</td>\n",
       "      <td>11858139.34</td>\n",
       "      <td>11701947.80</td>\n",
       "      <td>831301.90</td>\n",
       "      <td>4652069.81</td>\n",
       "      <td>3873041.26</td>\n",
       "      <td>771093.20</td>\n",
       "      <td>7935.35</td>\n",
       "      <td>conventional</td>\n",
       "      <td>2015</td>\n",
       "      <td>TotalUS</td>\n",
       "      <td>-0.001</td>\n",
       "      <td>0.020</td>\n",
       "      <td>-0.050000</td>\n",
       "      <td>29.043459</td>\n",
       "    </tr>\n",
       "  </tbody>\n",
       "</table>\n",
       "</div>"
      ],
      "text/plain": [
       "         date  averageprice  total_volume         4046         4225  \\\n",
       "0  2015-01-04          0.95   31324277.73  12357161.34  13624083.05   \n",
       "1  2015-01-11          1.01   29063542.75  11544810.53  12134773.38   \n",
       "2  2015-01-18          1.03   29043458.85  11858139.34  11701947.80   \n",
       "\n",
       "        4770  total_bags  small_bags  large bags   xl_bags          type  \\\n",
       "0  844093.32  4498940.02  3585321.58   894945.63  18672.81  conventional   \n",
       "1  866574.66  4517384.18  3783261.16   718333.87  15789.15  conventional   \n",
       "2  831301.90  4652069.81  3873041.26   771093.20   7935.35  conventional   \n",
       "\n",
       "   year   region  pct_chg_quantity  pct_chg_price  price_eod  \\\n",
       "0  2015  TotalUS               NaN            NaN        NaN   \n",
       "1  2015  TotalUS            -0.072          0.063  -1.142857   \n",
       "2  2015  TotalUS            -0.001          0.020  -0.050000   \n",
       "\n",
       "   total_volume_million  \n",
       "0             31.324278  \n",
       "1             29.063543  \n",
       "2             29.043459  "
      ]
     },
     "execution_count": 49,
     "metadata": {},
     "output_type": "execute_result"
    }
   ],
   "source": [
    "totalus = pd.read_csv('data/totalus_eod.csv')\n",
    "totalus.head(3)"
   ]
  },
  {
   "cell_type": "code",
   "execution_count": 50,
   "metadata": {},
   "outputs": [
    {
     "data": {
      "text/plain": [
       "(158, 17)"
      ]
     },
     "execution_count": 50,
     "metadata": {},
     "output_type": "execute_result"
    }
   ],
   "source": [
    "totalus.shape"
   ]
  },
  {
   "cell_type": "code",
   "execution_count": 51,
   "metadata": {},
   "outputs": [
    {
     "data": {
      "text/plain": [
       "(157, 17)"
      ]
     },
     "execution_count": 51,
     "metadata": {},
     "output_type": "execute_result"
    }
   ],
   "source": [
    "#drop the Nan values in the dataset\n",
    "totalus.dropna(inplace = True)\n",
    "totalus.shape"
   ]
  },
  {
   "cell_type": "markdown",
   "metadata": {},
   "source": [
    "Since we are going to use a Linear Regression model, we are looking for any linear relationships between features and price elasticity. I'm going to do some initial plotting to get a feel for any of those relationships, then get into the modelling."
   ]
  },
  {
   "cell_type": "code",
   "execution_count": 52,
   "metadata": {},
   "outputs": [
    {
     "data": {
      "text/plain": [
       "<matplotlib.axes._subplots.AxesSubplot at 0x7fb3d6f56b20>"
      ]
     },
     "execution_count": 52,
     "metadata": {},
     "output_type": "execute_result"
    },
    {
     "data": {
      "image/png": "[encoded data removed]",
      "text/plain": [
       "<Figure size 432x288 with 2 Axes>"
      ]
     },
     "metadata": {
      "needs_background": "light"
     },
     "output_type": "display_data"
    }
   ],
   "source": [
    "sns.heatmap(totalus.corr())"
   ]
  },
  {
   "cell_type": "code",
   "execution_count": 53,
   "metadata": {},
   "outputs": [
    {
     "data": {
      "text/html": [
       "<div>\n",
       "<style scoped>\n",
       "    .dataframe tbody tr th:only-of-type {\n",
       "        vertical-align: middle;\n",
       "    }\n",
       "\n",
       "    .dataframe tbody tr th {\n",
       "        vertical-align: top;\n",
       "    }\n",
       "\n",
       "    .dataframe thead th {\n",
       "        text-align: right;\n",
       "    }\n",
       "</style>\n",
       "<table border=\"1\" class=\"dataframe\">\n",
       "  <thead>\n",
       "    <tr style=\"text-align: right;\">\n",
       "      <th></th>\n",
       "      <th>averageprice</th>\n",
       "      <th>total_volume</th>\n",
       "      <th>4046</th>\n",
       "      <th>4225</th>\n",
       "      <th>4770</th>\n",
       "      <th>total_bags</th>\n",
       "      <th>small_bags</th>\n",
       "      <th>large bags</th>\n",
       "      <th>xl_bags</th>\n",
       "      <th>year</th>\n",
       "      <th>pct_chg_quantity</th>\n",
       "      <th>pct_chg_price</th>\n",
       "      <th>price_eod</th>\n",
       "      <th>total_volume_million</th>\n",
       "    </tr>\n",
       "  </thead>\n",
       "  <tbody>\n",
       "    <tr>\n",
       "      <th>averageprice</th>\n",
       "      <td>1.000000</td>\n",
       "      <td>-0.525359</td>\n",
       "      <td>-0.450516</td>\n",
       "      <td>-0.724810</td>\n",
       "      <td>-0.645046</td>\n",
       "      <td>-0.038251</td>\n",
       "      <td>-0.070209</td>\n",
       "      <td>0.018716</td>\n",
       "      <td>0.151151</td>\n",
       "      <td>0.362458</td>\n",
       "      <td>-0.232148</td>\n",
       "      <td>0.175594</td>\n",
       "      <td>0.204880</td>\n",
       "      <td>-0.525359</td>\n",
       "    </tr>\n",
       "    <tr>\n",
       "      <th>total_volume</th>\n",
       "      <td>-0.525359</td>\n",
       "      <td>1.000000</td>\n",
       "      <td>0.839256</td>\n",
       "      <td>0.742438</td>\n",
       "      <td>0.441717</td>\n",
       "      <td>0.683919</td>\n",
       "      <td>0.697583</td>\n",
       "      <td>0.583217</td>\n",
       "      <td>0.382518</td>\n",
       "      <td>0.348359</td>\n",
       "      <td>0.473157</td>\n",
       "      <td>-0.330337</td>\n",
       "      <td>-0.109231</td>\n",
       "      <td>1.000000</td>\n",
       "    </tr>\n",
       "    <tr>\n",
       "      <th>4046</th>\n",
       "      <td>-0.450516</td>\n",
       "      <td>0.839256</td>\n",
       "      <td>1.000000</td>\n",
       "      <td>0.620155</td>\n",
       "      <td>0.287699</td>\n",
       "      <td>0.348969</td>\n",
       "      <td>0.392337</td>\n",
       "      <td>0.223993</td>\n",
       "      <td>0.118785</td>\n",
       "      <td>0.099392</td>\n",
       "      <td>0.414148</td>\n",
       "      <td>-0.288038</td>\n",
       "      <td>-0.127366</td>\n",
       "      <td>0.839256</td>\n",
       "    </tr>\n",
       "    <tr>\n",
       "      <th>4225</th>\n",
       "      <td>-0.724810</td>\n",
       "      <td>0.742438</td>\n",
       "      <td>0.620155</td>\n",
       "      <td>1.000000</td>\n",
       "      <td>0.719251</td>\n",
       "      <td>0.112014</td>\n",
       "      <td>0.116734</td>\n",
       "      <td>0.097817</td>\n",
       "      <td>-0.009262</td>\n",
       "      <td>-0.207391</td>\n",
       "      <td>0.529368</td>\n",
       "      <td>-0.388818</td>\n",
       "      <td>-0.224611</td>\n",
       "      <td>0.742438</td>\n",
       "    </tr>\n",
       "    <tr>\n",
       "      <th>4770</th>\n",
       "      <td>-0.645046</td>\n",
       "      <td>0.441717</td>\n",
       "      <td>0.287699</td>\n",
       "      <td>0.719251</td>\n",
       "      <td>1.000000</td>\n",
       "      <td>-0.040603</td>\n",
       "      <td>-0.020959</td>\n",
       "      <td>-0.093600</td>\n",
       "      <td>0.094966</td>\n",
       "      <td>-0.378523</td>\n",
       "      <td>0.220340</td>\n",
       "      <td>-0.093783</td>\n",
       "      <td>-0.139254</td>\n",
       "      <td>0.441717</td>\n",
       "    </tr>\n",
       "    <tr>\n",
       "      <th>total_bags</th>\n",
       "      <td>-0.038251</td>\n",
       "      <td>0.683919</td>\n",
       "      <td>0.348969</td>\n",
       "      <td>0.112014</td>\n",
       "      <td>-0.040603</td>\n",
       "      <td>1.000000</td>\n",
       "      <td>0.985955</td>\n",
       "      <td>0.918303</td>\n",
       "      <td>0.660395</td>\n",
       "      <td>0.824317</td>\n",
       "      <td>0.171282</td>\n",
       "      <td>-0.113764</td>\n",
       "      <td>0.076796</td>\n",
       "      <td>0.683919</td>\n",
       "    </tr>\n",
       "    <tr>\n",
       "      <th>small_bags</th>\n",
       "      <td>-0.070209</td>\n",
       "      <td>0.697583</td>\n",
       "      <td>0.392337</td>\n",
       "      <td>0.116734</td>\n",
       "      <td>-0.020959</td>\n",
       "      <td>0.985955</td>\n",
       "      <td>1.000000</td>\n",
       "      <td>0.840710</td>\n",
       "      <td>0.668235</td>\n",
       "      <td>0.774601</td>\n",
       "      <td>0.148796</td>\n",
       "      <td>-0.091055</td>\n",
       "      <td>0.079280</td>\n",
       "      <td>0.697583</td>\n",
       "    </tr>\n",
       "    <tr>\n",
       "      <th>large bags</th>\n",
       "      <td>0.018716</td>\n",
       "      <td>0.583217</td>\n",
       "      <td>0.223993</td>\n",
       "      <td>0.097817</td>\n",
       "      <td>-0.093600</td>\n",
       "      <td>0.918303</td>\n",
       "      <td>0.840710</td>\n",
       "      <td>1.000000</td>\n",
       "      <td>0.506058</td>\n",
       "      <td>0.843113</td>\n",
       "      <td>0.213786</td>\n",
       "      <td>-0.167455</td>\n",
       "      <td>0.051438</td>\n",
       "      <td>0.583217</td>\n",
       "    </tr>\n",
       "    <tr>\n",
       "      <th>xl_bags</th>\n",
       "      <td>0.151151</td>\n",
       "      <td>0.382518</td>\n",
       "      <td>0.118785</td>\n",
       "      <td>-0.009262</td>\n",
       "      <td>0.094966</td>\n",
       "      <td>0.660395</td>\n",
       "      <td>0.668235</td>\n",
       "      <td>0.506058</td>\n",
       "      <td>1.000000</td>\n",
       "      <td>0.542163</td>\n",
       "      <td>0.010341</td>\n",
       "      <td>0.065626</td>\n",
       "      <td>0.151582</td>\n",
       "      <td>0.382518</td>\n",
       "    </tr>\n",
       "    <tr>\n",
       "      <th>year</th>\n",
       "      <td>0.362458</td>\n",
       "      <td>0.348359</td>\n",
       "      <td>0.099392</td>\n",
       "      <td>-0.207391</td>\n",
       "      <td>-0.378523</td>\n",
       "      <td>0.824317</td>\n",
       "      <td>0.774601</td>\n",
       "      <td>0.843113</td>\n",
       "      <td>0.542163</td>\n",
       "      <td>1.000000</td>\n",
       "      <td>0.021860</td>\n",
       "      <td>0.021487</td>\n",
       "      <td>0.089707</td>\n",
       "      <td>0.348359</td>\n",
       "    </tr>\n",
       "    <tr>\n",
       "      <th>pct_chg_quantity</th>\n",
       "      <td>-0.232148</td>\n",
       "      <td>0.473157</td>\n",
       "      <td>0.414148</td>\n",
       "      <td>0.529368</td>\n",
       "      <td>0.220340</td>\n",
       "      <td>0.171282</td>\n",
       "      <td>0.148796</td>\n",
       "      <td>0.213786</td>\n",
       "      <td>0.010341</td>\n",
       "      <td>0.021860</td>\n",
       "      <td>1.000000</td>\n",
       "      <td>-0.865845</td>\n",
       "      <td>-0.064164</td>\n",
       "      <td>0.473157</td>\n",
       "    </tr>\n",
       "    <tr>\n",
       "      <th>pct_chg_price</th>\n",
       "      <td>0.175594</td>\n",
       "      <td>-0.330337</td>\n",
       "      <td>-0.288038</td>\n",
       "      <td>-0.388818</td>\n",
       "      <td>-0.093783</td>\n",
       "      <td>-0.113764</td>\n",
       "      <td>-0.091055</td>\n",
       "      <td>-0.167455</td>\n",
       "      <td>0.065626</td>\n",
       "      <td>0.021487</td>\n",
       "      <td>-0.865845</td>\n",
       "      <td>1.000000</td>\n",
       "      <td>0.096124</td>\n",
       "      <td>-0.330337</td>\n",
       "    </tr>\n",
       "    <tr>\n",
       "      <th>price_eod</th>\n",
       "      <td>0.204880</td>\n",
       "      <td>-0.109231</td>\n",
       "      <td>-0.127366</td>\n",
       "      <td>-0.224611</td>\n",
       "      <td>-0.139254</td>\n",
       "      <td>0.076796</td>\n",
       "      <td>0.079280</td>\n",
       "      <td>0.051438</td>\n",
       "      <td>0.151582</td>\n",
       "      <td>0.089707</td>\n",
       "      <td>-0.064164</td>\n",
       "      <td>0.096124</td>\n",
       "      <td>1.000000</td>\n",
       "      <td>-0.109231</td>\n",
       "    </tr>\n",
       "    <tr>\n",
       "      <th>total_volume_million</th>\n",
       "      <td>-0.525359</td>\n",
       "      <td>1.000000</td>\n",
       "      <td>0.839256</td>\n",
       "      <td>0.742438</td>\n",
       "      <td>0.441717</td>\n",
       "      <td>0.683919</td>\n",
       "      <td>0.697583</td>\n",
       "      <td>0.583217</td>\n",
       "      <td>0.382518</td>\n",
       "      <td>0.348359</td>\n",
       "      <td>0.473157</td>\n",
       "      <td>-0.330337</td>\n",
       "      <td>-0.109231</td>\n",
       "      <td>1.000000</td>\n",
       "    </tr>\n",
       "  </tbody>\n",
       "</table>\n",
       "</div>"
      ],
      "text/plain": [
       "                      averageprice  total_volume      4046      4225  \\\n",
       "averageprice              1.000000     -0.525359 -0.450516 -0.724810   \n",
       "total_volume             -0.525359      1.000000  0.839256  0.742438   \n",
       "4046                     -0.450516      0.839256  1.000000  0.620155   \n",
       "4225                     -0.724810      0.742438  0.620155  1.000000   \n",
       "4770                     -0.645046      0.441717  0.287699  0.719251   \n",
       "total_bags               -0.038251      0.683919  0.348969  0.112014   \n",
       "small_bags               -0.070209      0.697583  0.392337  0.116734   \n",
       "large bags                0.018716      0.583217  0.223993  0.097817   \n",
       "xl_bags                   0.151151      0.382518  0.118785 -0.009262   \n",
       "year                      0.362458      0.348359  0.099392 -0.207391   \n",
       "pct_chg_quantity         -0.232148      0.473157  0.414148  0.529368   \n",
       "pct_chg_price             0.175594     -0.330337 -0.288038 -0.388818   \n",
       "price_eod                 0.204880     -0.109231 -0.127366 -0.224611   \n",
       "total_volume_million     -0.525359      1.000000  0.839256  0.742438   \n",
       "\n",
       "                          4770  total_bags  small_bags  large bags   xl_bags  \\\n",
       "averageprice         -0.645046   -0.038251   -0.070209    0.018716  0.151151   \n",
       "total_volume          0.441717    0.683919    0.697583    0.583217  0.382518   \n",
       "4046                  0.287699    0.348969    0.392337    0.223993  0.118785   \n",
       "4225                  0.719251    0.112014    0.116734    0.097817 -0.009262   \n",
       "4770                  1.000000   -0.040603   -0.020959   -0.093600  0.094966   \n",
       "total_bags           -0.040603    1.000000    0.985955    0.918303  0.660395   \n",
       "small_bags           -0.020959    0.985955    1.000000    0.840710  0.668235   \n",
       "large bags           -0.093600    0.918303    0.840710    1.000000  0.506058   \n",
       "xl_bags               0.094966    0.660395    0.668235    0.506058  1.000000   \n",
       "year                 -0.378523    0.824317    0.774601    0.843113  0.542163   \n",
       "pct_chg_quantity      0.220340    0.171282    0.148796    0.213786  0.010341   \n",
       "pct_chg_price        -0.093783   -0.113764   -0.091055   -0.167455  0.065626   \n",
       "price_eod            -0.139254    0.076796    0.079280    0.051438  0.151582   \n",
       "total_volume_million  0.441717    0.683919    0.697583    0.583217  0.382518   \n",
       "\n",
       "                          year  pct_chg_quantity  pct_chg_price  price_eod  \\\n",
       "averageprice          0.362458         -0.232148       0.175594   0.204880   \n",
       "total_volume          0.348359          0.473157      -0.330337  -0.109231   \n",
       "4046                  0.099392          0.414148      -0.288038  -0.127366   \n",
       "4225                 -0.207391          0.529368      -0.388818  -0.224611   \n",
       "4770                 -0.378523          0.220340      -0.093783  -0.139254   \n",
       "total_bags            0.824317          0.171282      -0.113764   0.076796   \n",
       "small_bags            0.774601          0.148796      -0.091055   0.079280   \n",
       "large bags            0.843113          0.213786      -0.167455   0.051438   \n",
       "xl_bags               0.542163          0.010341       0.065626   0.151582   \n",
       "year                  1.000000          0.021860       0.021487   0.089707   \n",
       "pct_chg_quantity      0.021860          1.000000      -0.865845  -0.064164   \n",
       "pct_chg_price         0.021487         -0.865845       1.000000   0.096124   \n",
       "price_eod             0.089707         -0.064164       0.096124   1.000000   \n",
       "total_volume_million  0.348359          0.473157      -0.330337  -0.109231   \n",
       "\n",
       "                      total_volume_million  \n",
       "averageprice                     -0.525359  \n",
       "total_volume                      1.000000  \n",
       "4046                              0.839256  \n",
       "4225                              0.742438  \n",
       "4770                              0.441717  \n",
       "total_bags                        0.683919  \n",
       "small_bags                        0.697583  \n",
       "large bags                        0.583217  \n",
       "xl_bags                           0.382518  \n",
       "year                              0.348359  \n",
       "pct_chg_quantity                  0.473157  \n",
       "pct_chg_price                    -0.330337  \n",
       "price_eod                        -0.109231  \n",
       "total_volume_million              1.000000  "
      ]
     },
     "execution_count": 53,
     "metadata": {},
     "output_type": "execute_result"
    }
   ],
   "source": [
    "totalus.corr()"
   ]
  },
  {
   "cell_type": "markdown",
   "metadata": {},
   "source": [
    "Removing those -inf and inf outliers seems to have changed the correlation results a little bit, which is interesting. Previously, averageprice had a correlation coeff of .05, now it more strongly correlated at 0.2. The total_volume feature mostly retains its coefficient at -.11 (previously -0.14). These are still fairly small correlations, but I plan to do some feature engineering to see what else might be related to price elasticity and our target for modelling, which is total_volume."
   ]
  },
  {
   "cell_type": "markdown",
   "metadata": {},
   "source": [
    "Let's get started with the modelling now, and I want to take time to set up the problem: Our ultimate goal is to be able to predict the volume of avocado sales so that we can predict our costs and revenues. We have ~3 years of data we can to make this prediction, and obviously we could just take whatever the average is across the years and use that to start with, but we want to be able to do better than that. So, let's see if we can get a better prediction."
   ]
  },
  {
   "cell_type": "markdown",
   "metadata": {},
   "source": [
    "To start off simply, I'm going to compare year, averageprice, price_eod and total_volume. For me, the modelling process is iterative, so I usually start small and work my way up as I get more and more of a feel for the data. also, since we have four years of data, I'm going to use the data from 2015 to 2017 to try to predict the total volume of avocados for 2018."
   ]
  },
  {
   "cell_type": "code",
   "execution_count": 54,
   "metadata": {},
   "outputs": [
    {
     "data": {
      "text/html": [
       "<div>\n",
       "<style scoped>\n",
       "    .dataframe tbody tr th:only-of-type {\n",
       "        vertical-align: middle;\n",
       "    }\n",
       "\n",
       "    .dataframe tbody tr th {\n",
       "        vertical-align: top;\n",
       "    }\n",
       "\n",
       "    .dataframe thead th {\n",
       "        text-align: right;\n",
       "    }\n",
       "</style>\n",
       "<table border=\"1\" class=\"dataframe\">\n",
       "  <thead>\n",
       "    <tr style=\"text-align: right;\">\n",
       "      <th></th>\n",
       "      <th>total_volume_million</th>\n",
       "      <th>year</th>\n",
       "      <th>averageprice</th>\n",
       "      <th>price_eod</th>\n",
       "    </tr>\n",
       "  </thead>\n",
       "  <tbody>\n",
       "    <tr>\n",
       "      <th>1</th>\n",
       "      <td>29.063543</td>\n",
       "      <td>2015</td>\n",
       "      <td>1.01</td>\n",
       "      <td>-1.142857</td>\n",
       "    </tr>\n",
       "    <tr>\n",
       "      <th>2</th>\n",
       "      <td>29.043459</td>\n",
       "      <td>2015</td>\n",
       "      <td>1.03</td>\n",
       "      <td>-0.050000</td>\n",
       "    </tr>\n",
       "    <tr>\n",
       "      <th>3</th>\n",
       "      <td>28.470311</td>\n",
       "      <td>2015</td>\n",
       "      <td>1.04</td>\n",
       "      <td>-2.000000</td>\n",
       "    </tr>\n",
       "    <tr>\n",
       "      <th>4</th>\n",
       "      <td>44.655462</td>\n",
       "      <td>2015</td>\n",
       "      <td>0.89</td>\n",
       "      <td>-3.944444</td>\n",
       "    </tr>\n",
       "    <tr>\n",
       "      <th>5</th>\n",
       "      <td>32.137333</td>\n",
       "      <td>2015</td>\n",
       "      <td>0.95</td>\n",
       "      <td>-4.179104</td>\n",
       "    </tr>\n",
       "    <tr>\n",
       "      <th>...</th>\n",
       "      <td>...</td>\n",
       "      <td>...</td>\n",
       "      <td>...</td>\n",
       "      <td>...</td>\n",
       "    </tr>\n",
       "    <tr>\n",
       "      <th>153</th>\n",
       "      <td>40.021529</td>\n",
       "      <td>2018</td>\n",
       "      <td>1.06</td>\n",
       "      <td>-4.736842</td>\n",
       "    </tr>\n",
       "    <tr>\n",
       "      <th>154</th>\n",
       "      <td>40.741214</td>\n",
       "      <td>2018</td>\n",
       "      <td>1.07</td>\n",
       "      <td>2.000000</td>\n",
       "    </tr>\n",
       "    <tr>\n",
       "      <th>155</th>\n",
       "      <td>40.449603</td>\n",
       "      <td>2018</td>\n",
       "      <td>1.09</td>\n",
       "      <td>-0.368421</td>\n",
       "    </tr>\n",
       "    <tr>\n",
       "      <th>156</th>\n",
       "      <td>41.386314</td>\n",
       "      <td>2018</td>\n",
       "      <td>1.05</td>\n",
       "      <td>-0.621622</td>\n",
       "    </tr>\n",
       "    <tr>\n",
       "      <th>157</th>\n",
       "      <td>43.409836</td>\n",
       "      <td>2018</td>\n",
       "      <td>1.03</td>\n",
       "      <td>-2.578947</td>\n",
       "    </tr>\n",
       "  </tbody>\n",
       "</table>\n",
       "<p>157 rows × 4 columns</p>\n",
       "</div>"
      ],
      "text/plain": [
       "     total_volume_million  year  averageprice  price_eod\n",
       "1               29.063543  2015          1.01  -1.142857\n",
       "2               29.043459  2015          1.03  -0.050000\n",
       "3               28.470311  2015          1.04  -2.000000\n",
       "4               44.655462  2015          0.89  -3.944444\n",
       "5               32.137333  2015          0.95  -4.179104\n",
       "..                    ...   ...           ...        ...\n",
       "153             40.021529  2018          1.06  -4.736842\n",
       "154             40.741214  2018          1.07   2.000000\n",
       "155             40.449603  2018          1.09  -0.368421\n",
       "156             41.386314  2018          1.05  -0.621622\n",
       "157             43.409836  2018          1.03  -2.578947\n",
       "\n",
       "[157 rows x 4 columns]"
      ]
     },
     "execution_count": 54,
     "metadata": {},
     "output_type": "execute_result"
    }
   ],
   "source": [
    "small_totalus = totalus[['total_volume_million', 'year', 'averageprice', 'price_eod']]\n",
    "small_totalus"
   ]
  },
  {
   "cell_type": "code",
   "execution_count": 55,
   "metadata": {},
   "outputs": [
    {
     "data": {
      "text/plain": [
       "<seaborn.axisgrid.PairGrid at 0x7fb3d6f596d0>"
      ]
     },
     "execution_count": 55,
     "metadata": {},
     "output_type": "execute_result"
    },
    {
     "data": {
      "image/png": "[encoded data removed]",
      "text/plain": [
       "<Figure size 720x720 with 14 Axes>"
      ]
     },
     "metadata": {
      "needs_background": "light"
     },
     "output_type": "display_data"
    }
   ],
   "source": [
    "#Make a quick pairplot to see the correlations\n",
    "sns.pairplot(small_totalus, corner = True)"
   ]
  },
  {
   "cell_type": "code",
   "execution_count": null,
   "metadata": {},
   "outputs": [],
   "source": [
    "#Now of those initial features compared above, the average price had the strongest correlation with a -0.52. This tell me that the pricing \n",
    "#of the avocados is something we should look further into (and worth the investigation into price elasticity)"
   ]
  },
  {
   "cell_type": "markdown",
   "metadata": {},
   "source": [
    "Do a train, test, split on the data. Since we have data for 2015 through 2018, let's make things simple and use 2015-2017 to try to predict 2018's total sales volume."
   ]
  },
  {
   "cell_type": "code",
   "execution_count": 56,
   "metadata": {},
   "outputs": [
    {
     "data": {
      "text/html": [
       "<div>\n",
       "<style scoped>\n",
       "    .dataframe tbody tr th:only-of-type {\n",
       "        vertical-align: middle;\n",
       "    }\n",
       "\n",
       "    .dataframe tbody tr th {\n",
       "        vertical-align: top;\n",
       "    }\n",
       "\n",
       "    .dataframe thead th {\n",
       "        text-align: right;\n",
       "    }\n",
       "</style>\n",
       "<table border=\"1\" class=\"dataframe\">\n",
       "  <thead>\n",
       "    <tr style=\"text-align: right;\">\n",
       "      <th></th>\n",
       "      <th>total_volume_million</th>\n",
       "      <th>year</th>\n",
       "      <th>averageprice</th>\n",
       "      <th>price_eod</th>\n",
       "    </tr>\n",
       "  </thead>\n",
       "  <tbody>\n",
       "    <tr>\n",
       "      <th>141</th>\n",
       "      <td>33.824253</td>\n",
       "      <td>2017</td>\n",
       "      <td>1.09</td>\n",
       "      <td>-3.057851</td>\n",
       "    </tr>\n",
       "    <tr>\n",
       "      <th>142</th>\n",
       "      <td>35.634913</td>\n",
       "      <td>2017</td>\n",
       "      <td>1.03</td>\n",
       "      <td>-0.981818</td>\n",
       "    </tr>\n",
       "    <tr>\n",
       "      <th>143</th>\n",
       "      <td>30.757767</td>\n",
       "      <td>2017</td>\n",
       "      <td>1.07</td>\n",
       "      <td>-3.512821</td>\n",
       "    </tr>\n",
       "    <tr>\n",
       "      <th>144</th>\n",
       "      <td>29.102349</td>\n",
       "      <td>2017</td>\n",
       "      <td>1.18</td>\n",
       "      <td>-0.524272</td>\n",
       "    </tr>\n",
       "    <tr>\n",
       "      <th>145</th>\n",
       "      <td>38.267342</td>\n",
       "      <td>2017</td>\n",
       "      <td>0.98</td>\n",
       "      <td>-1.863905</td>\n",
       "    </tr>\n",
       "  </tbody>\n",
       "</table>\n",
       "</div>"
      ],
      "text/plain": [
       "     total_volume_million  year  averageprice  price_eod\n",
       "141             33.824253  2017          1.09  -3.057851\n",
       "142             35.634913  2017          1.03  -0.981818\n",
       "143             30.757767  2017          1.07  -3.512821\n",
       "144             29.102349  2017          1.18  -0.524272\n",
       "145             38.267342  2017          0.98  -1.863905"
      ]
     },
     "execution_count": 56,
     "metadata": {},
     "output_type": "execute_result"
    }
   ],
   "source": [
    "traindata = small_totalus[small_totalus['year'] < 2018]\n",
    "testdata  = small_totalus[small_totalus['year'] == 2018]\n",
    "traindata.tail()"
   ]
  },
  {
   "cell_type": "code",
   "execution_count": 67,
   "metadata": {},
   "outputs": [
    {
     "data": {
      "text/plain": [
       "42.12553335250001"
      ]
     },
     "execution_count": 67,
     "metadata": {},
     "output_type": "execute_result"
    }
   ],
   "source": [
    "#To create the null model, I plan to use the mean of the total_volume for years 2015-2017 to estimate the total_volume for 2018.\n",
    "traindata['total_volume_million'].mean()\n",
    "#The average is 42.13 million avocados, so if I just used the mean, I would predict that the following year (2018) would bring me 42.13 million avocados"
   ]
  },
  {
   "cell_type": "code",
   "execution_count": 68,
   "metadata": {},
   "outputs": [],
   "source": [
    "#Identify my x (my features) and my y (my target).\n",
    "x_train = traindata[['year', 'averageprice', 'price_eod']]\n",
    "y_train = traindata['total_volume_million']\n",
    "x_test  = testdata[['year', 'averageprice', 'price_eod']]\n",
    "y_test  = testdata[['total_volume_million']]"
   ]
  },
  {
   "cell_type": "code",
   "execution_count": 69,
   "metadata": {},
   "outputs": [],
   "source": [
    "#Instantiate my model\n",
    "lr = LinearRegression()"
   ]
  },
  {
   "cell_type": "code",
   "execution_count": 70,
   "metadata": {},
   "outputs": [
    {
     "data": {
      "text/plain": [
       "LinearRegression()"
      ]
     },
     "execution_count": 70,
     "metadata": {},
     "output_type": "execute_result"
    }
   ],
   "source": [
    "#fit my model\n",
    "lr.fit(x_train,y_train)"
   ]
  },
  {
   "cell_type": "code",
   "execution_count": 71,
   "metadata": {},
   "outputs": [],
   "source": [
    "y_pred = lr.predict(x_test)\n",
    "#y_pred"
   ]
  },
  {
   "cell_type": "code",
   "execution_count": 72,
   "metadata": {},
   "outputs": [
    {
     "data": {
      "text/plain": [
       "24.129945474984666"
      ]
     },
     "execution_count": 72,
     "metadata": {},
     "output_type": "execute_result"
    }
   ],
   "source": [
    "#Compute the mean_squared_error for our predictions\n",
    "y = testdata['total_volume_million']\n",
    "mean_squared_error(y, y_pred)"
   ]
  },
  {
   "cell_type": "code",
   "execution_count": 73,
   "metadata": {},
   "outputs": [
    {
     "data": {
      "text/plain": [
       "125.42960905337645"
      ]
     },
     "execution_count": 73,
     "metadata": {},
     "output_type": "execute_result"
    }
   ],
   "source": [
    "#Now compare to our null model.\n",
    "y_train_mean = np.full_like(y, traindata['total_volume_million'].mean())\n",
    "mean_squared_error(y, y_train_mean)"
   ]
  },
  {
   "cell_type": "code",
   "execution_count": null,
   "metadata": {},
   "outputs": [],
   "source": []
  },
  {
   "cell_type": "code",
   "execution_count": null,
   "metadata": {},
   "outputs": [],
   "source": []
  },
  {
   "cell_type": "code",
   "execution_count": null,
   "metadata": {},
   "outputs": [],
   "source": []
  },
  {
   "cell_type": "code",
   "execution_count": null,
   "metadata": {},
   "outputs": [],
   "source": []
  },
  {
   "cell_type": "code",
   "execution_count": null,
   "metadata": {},
   "outputs": [],
   "source": [
    "#Notes: Many of the columns/features we have aren't very helpful in terms of being possible predictors for volume of avocados sold. The columns I have \n",
    "#are mostly different ways of breaking down the total volume into different components. I need to engineer some features that could be better predictors,\n",
    "#like months of the year and region. We already know that some regions produce more avocados than others, but which are better predictors? These are fun\n",
    "#things to explore!"
   ]
  },
  {
   "cell_type": "code",
   "execution_count": null,
   "metadata": {},
   "outputs": [],
   "source": []
  },
  {
   "cell_type": "code",
   "execution_count": null,
   "metadata": {},
   "outputs": [],
   "source": []
  },
  {
   "cell_type": "code",
   "execution_count": null,
   "metadata": {},
   "outputs": [],
   "source": []
  }
 ],
 "metadata": {
  "kernelspec": {
   "display_name": "Python 3",
   "language": "python",
   "name": "python3"
  },
  "language_info": {
   "codemirror_mode": {
    "name": "ipython",
    "version": 3
   },
   "file_extension": ".py",
   "mimetype": "text/x-python",
   "name": "python",
   "nbconvert_exporter": "python",
   "pygments_lexer": "ipython3",
   "version": "3.8.3"
  }
 },
 "nbformat": 4,
 "nbformat_minor": 4
}
